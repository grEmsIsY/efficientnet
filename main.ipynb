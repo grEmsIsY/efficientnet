{
 "cells": [
  {
   "cell_type": "code",
   "execution_count": 10,
   "outputs": [],
   "source": [
    "from keras.preprocessing.image import load_img\n",
    "from tensorflow.keras.preprocessing.image import ImageDataGenerator\n",
    "import matplotlib.pyplot as plt\n",
    "import numpy as np\n",
    "\n",
    "# Import the libraries required to use convolutional neural networks\n",
    "from tensorflow.keras.models import Sequential\n",
    "from tensorflow.keras.layers import Dense,Conv2D,MaxPool2D,Flatten,Dropout, BatchNormalization\n",
    "from tensorflow.keras.callbacks import EarlyStopping"
   ],
   "metadata": {
    "collapsed": false,
    "pycharm": {
     "name": "#%%\n"
    }
   }
  },
  {
   "cell_type": "code",
   "execution_count": null,
   "outputs": [],
   "source": [
    "train_datagen = ImageDataGenerator(rescale=1./255)\n",
    "valid_datagen = ImageDataGenerator(rescale=1./255)\n",
    "test_datagen = ImageDataGenerator(rescale=1./255)\n",
    "\n",
    "# Load the images 224 -> 128\n",
    "train_generator = train_datagen.flow_from_directory(directory=(\"/archive/train\"),\n",
    "                                                    target_size=(128, 128),\n",
    "                                                    color_mode=\"grayscale\",\n",
    "                                                    batch_size=6326,\n",
    "                                                    class_mode=\"sparse\",\n",
    "                                                    shuffle=True,seed=27)\n",
    "\n",
    "valid_generator = valid_datagen.flow_from_directory(directory=(\"/archive/val\"),\n",
    "                                                    target_size=(128, 128),\n",
    "                                                    color_mode=\"grayscale\",\n",
    "                                                    batch_size=38,\n",
    "                                                    class_mode=\"sparse\",\n",
    "                                                    shuffle=True,seed=27)\n",
    "\n",
    "\n",
    "test_generator = test_datagen.flow_from_directory(directory=(\"/archive/test\"),\n",
    "                                                  target_size=(128, 128),\n",
    "                                                  color_mode=\"grayscale\",\n",
    "                                                  batch_size=771,\n",
    "                                                  class_mode=\"sparse\",\n",
    "                                                  shuffle=False,\n",
    "                                                  seed=27)"
   ],
   "metadata": {
    "collapsed": false,
    "pycharm": {
     "name": "#%%\n",
     "is_executing": true
    }
   }
  },
  {
   "cell_type": "code",
   "execution_count": null,
   "outputs": [],
   "source": [
    "x_train, y_train = train_generator.next()\n",
    "x_val, y_val = valid_generator.next()\n",
    "x_test, y_test = test_generator.next()\n",
    "\n",
    "print(\"X_train is: \", x_train.shape)\n",
    "print(\"Y_train is: \", (y_train.shape))\n",
    "print(\"X_val is: \", (x_val.shape))\n",
    "print(\"Y_val is: \", (y_val.shape))\n",
    "print(\"X_test is: \", (x_test.shape))\n",
    "print(\"Y_test is: \", (y_test.shape))"
   ],
   "metadata": {
    "collapsed": false,
    "pycharm": {
     "name": "#%%\n",
     "is_executing": true
    }
   }
  },
  {
   "cell_type": "code",
   "execution_count": null,
   "outputs": [],
   "source": [
    "print(y_train[0:10])\n",
    "print(y_val[0:10])\n",
    "print(y_test[100:110])"
   ],
   "metadata": {
    "collapsed": false,
    "pycharm": {
     "name": "#%%\n"
    }
   }
  },
  {
   "cell_type": "code",
   "execution_count": null,
   "outputs": [],
   "source": [
    "#Data Visualization¶"
   ],
   "metadata": {
    "collapsed": false,
    "pycharm": {
     "name": "#%%\n"
    }
   }
  },
  {
   "cell_type": "code",
   "execution_count": null,
   "outputs": [],
   "source": [
    "labels = list(train_generator.class_indices.keys())\n",
    "print(labels)\n",
    "\n",
    "#Print an image from the dataset. NORMAL can be replaced for any other class.\n",
    "ran_img_label = np.random.choice(os.listdir(\"/content/train/NORMAL\"))\n",
    "img = load_img(os.path.join(\"/content/train/NORMAL\", ran_img_label))\n",
    "plt.imshow(img)"
   ],
   "metadata": {
    "collapsed": false,
    "pycharm": {
     "name": "#%%\n"
    }
   }
  },
  {
   "cell_type": "code",
   "execution_count": null,
   "outputs": [],
   "source": [
    "fig, axs = plt.subplots()\n",
    "image = x_train[0].reshape(x_train[0].shape[0],-1)\n",
    "axs.imshow(image, cmap='gray')  # imshow renders a 2D grid\n",
    "plt.show()"
   ],
   "metadata": {
    "collapsed": false,
    "pycharm": {
     "name": "#%%\n"
    }
   }
  },
  {
   "cell_type": "code",
   "execution_count": null,
   "outputs": [],
   "source": [
    "#Data Analysis"
   ],
   "metadata": {
    "collapsed": false,
    "pycharm": {
     "name": "#%%\n"
    }
   }
  },
  {
   "cell_type": "code",
   "execution_count": null,
   "outputs": [],
   "source": [
    "import tensorflow as tf\n",
    "from tensorflow import keras\n",
    "\n",
    "#We used the cnn from the exam since we did not have much time to work in the project (We only had 2 days)\n",
    "def cnn_model(input_shape, learning_rate=0.01):\n",
    "  tf.keras.backend.clear_session()\n",
    "  np.random.seed(0)\n",
    "  tf.random.set_seed(0)\n",
    "\n",
    "  num_classes = 4\n",
    "\n",
    "  model = keras.Sequential()\n",
    "\n",
    "  model.add(keras.layers.Conv2D(filters=32, kernel_size=(3, 3), padding='same',\n",
    "                  input_shape=input_shape))\n",
    "\n",
    "  model.add(keras.layers.Activation('relu'))\n",
    "  model.add(keras.layers.MaxPooling2D(pool_size=(2, 2)))\n",
    "\n",
    "\n",
    "  model.add(keras.layers.Conv2D(filters=16, kernel_size=(3, 3)))\n",
    "  model.add(keras.layers.Activation('relu'))\n",
    "  model.add(keras.layers.MaxPooling2D(pool_size=(2, 2)))\n",
    "\n",
    "\n",
    "  model.add(keras.layers.Conv2D(filters=32, kernel_size=(3, 3), padding='same'))\n",
    "  model.add(keras.layers.Activation('relu'))\n",
    "  model.add(keras.layers.Flatten())\n",
    "\n",
    "\n",
    "  model.add(keras.layers.Dense(units=512))\n",
    "  model.add(keras.layers.Activation('relu'))\n",
    "\n",
    "  model.add(keras.layers.Dense(units=num_classes))\n",
    "  model.add(keras.layers.Activation('softmax'))\n",
    "\n",
    "  optimizer = tf.keras.optimizers.SGD(learning_rate=learning_rate)\n",
    "\n",
    "  model.compile(loss=keras.losses.sparse_categorical_crossentropy,\n",
    "              optimizer=optimizer,\n",
    "              metrics=['accuracy'])\n",
    "\n",
    "\n",
    "  return model\n",
    "\n",
    "model = cnn_model((128, 128, 1), learning_rate=0.01)\n",
    "model.summary()"
   ],
   "metadata": {
    "collapsed": false,
    "pycharm": {
     "name": "#%%\n"
    }
   }
  },
  {
   "cell_type": "code",
   "execution_count": null,
   "outputs": [],
   "source": [
    "import pandas as pd\n",
    "from matplotlib import pyplot as plt\n",
    "import seaborn as sns  # for nicer plots\n",
    "sns.set(style='darkgrid')  # default style\n",
    "import plotly.graph_objs as plotly\n",
    "\n",
    "def plot_history(history):\n",
    "  plt.ylabel('Loss')\n",
    "  plt.xlabel('Epoch')\n",
    "  plt.xticks(range(0, len(history['loss'] + 1)))\n",
    "  plt.plot(history['loss'], label=\"training\", marker='o')\n",
    "  plt.plot(history['val_loss'], label=\"validation\", marker='o')\n",
    "  plt.legend()\n",
    "  plt.show()"
   ],
   "metadata": {
    "collapsed": false,
    "pycharm": {
     "name": "#%%\n"
    }
   }
  },
  {
   "cell_type": "code",
   "execution_count": null,
   "outputs": [],
   "source": [
    "history = model.fit(\n",
    "    x = x_train,\n",
    "    y = y_train,\n",
    "    epochs=10,\n",
    "    batch_size=64,\n",
    "    validation_data=(x_val, y_val),\n",
    "    verbose=1\n",
    "  )\n",
    "\n",
    "history = pd.DataFrame(history.history)\n",
    "plot_history(history)"
   ],
   "metadata": {
    "collapsed": false,
    "pycharm": {
     "name": "#%%\n"
    }
   }
  },
  {
   "cell_type": "code",
   "execution_count": null,
   "outputs": [],
   "source": [
    "y_pred_cnn = model.predict(x_test)\n",
    "y_pred_cnn = np.argmax(y_pred_cnn, axis = -1)\n",
    "print(\"Real labels\", y_test[100:120])\n",
    "print(\"Predicted labels\", y_pred_cnn[100:120])"
   ],
   "metadata": {
    "collapsed": false,
    "pycharm": {
     "name": "#%%\n"
    }
   }
  }
 ],
 "metadata": {
  "kernelspec": {
   "display_name": "Python 3",
   "language": "python",
   "name": "python3"
  },
  "language_info": {
   "codemirror_mode": {
    "name": "ipython",
    "version": 2
   },
   "file_extension": ".py",
   "mimetype": "text/x-python",
   "name": "python",
   "nbconvert_exporter": "python",
   "pygments_lexer": "ipython2",
   "version": "2.7.6"
  }
 },
 "nbformat": 4,
 "nbformat_minor": 0
}